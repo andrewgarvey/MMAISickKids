{
 "cells": [
  {
   "cell_type": "markdown",
   "metadata": {},
   "source": [
    "\"\"\"\n",
    "Author: Andrew Garvey\n",
    "Partner: Sargon Morad\n",
    "Date: July 1st, 2019\n",
    "Client: Hospital for Sick Children\n",
    "\n",
    "Title: DI_Review_Main\n",
    "\n",
    "Purpose:\n",
    "-   Look for any trends in DI data that might be useful as it relates to staffing on a long term basis\n",
    "-   Prepare visualizations for a 1 time presentation\n",
    "\"\"\"\n",
    "\n",
    "# Import Packages\n",
    "import os\n",
    "import numpy as np\n",
    "import pandas as pd\n",
    "\n",
    "# Import Custom Functions\n",
    "from Data_Functions import test_func\n",
    "\n",
    "# Import Custom Files\n",
    "import Data_Functions\n",
    "\n",
    "# Import DI Data\n",
    "DI_2018_Q3 = pd.read_excel('/home/andrew/Public/DI/ED DI 2018 - Q3.xlsx')  # only 1 sheet\n",
    "DI_2018_Q4 = pd.read_excel('/home/andrew/Public/DI/ED DI 2018 - Q4.xlsx')\n",
    "DI_2019_Q1 = pd.read_excel('/home/andrew/Public/DI/ED DI 2019 - Q1.xlsx')\n",
    "DI_2019_Q2 = pd.read_excel('/home/andrew/Public/DI/ED DI 2019 - Q2 20190621.xlsx')\n",
    "\n",
    "# All results will go to output path\n",
    "os.chdir('/home/andrew/PycharmProjects/SickKidsMMAI/Generated_Outputs/DI_Review_Output/')"
   ]
  }
 ],
 "metadata": {
  "kernelspec": {
   "display_name": "Python 3",
   "language": "python",
   "name": "python3"
  },
  "language_info": {
   "codemirror_mode": {
    "name": "ipython",
    "version": 3
   },
   "file_extension": ".py",
   "mimetype": "text/x-python",
   "name": "python",
   "nbconvert_exporter": "python",
   "pygments_lexer": "ipython3",
   "version": "3.6.7"
  }
 },
 "nbformat": 4,
 "nbformat_minor": 2
}
