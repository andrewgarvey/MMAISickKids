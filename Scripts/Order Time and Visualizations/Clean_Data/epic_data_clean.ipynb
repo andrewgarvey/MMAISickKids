{
 "cells": [
  {
   "cell_type": "code",
   "execution_count": 12,
   "metadata": {},
   "outputs": [],
   "source": [
    "##Author: Sargon Morad\n",
    "#Partner: Andrew Garvey\n",
    "#Date: July 1st, 2019\n",
    "#Client: Hospital for Sick Children\n",
    "\n",
    "#Purpose:\n",
    "#-   Clean the ED Data"
   ]
  },
  {
   "cell_type": "code",
   "execution_count": 13,
   "metadata": {},
   "outputs": [],
   "source": [
    "import numpy as np\n",
    "import scipy as sp\n",
    "import pandas as pd\n",
    "import matplotlib as mpl\n",
    "import datetime as dt\n",
    "import matplotlib.pyplot as plt\n",
    "import seaborn as sns\n",
    "from sklearn import preprocessing\n",
    "\n",
    "from IPython.display import display, HTML"
   ]
  },
  {
   "cell_type": "code",
   "execution_count": 14,
   "metadata": {
    "scrolled": true
   },
   "outputs": [],
   "source": [
    "#import sys\n",
    "#!{sys.executable} -m pip install seaborn\n",
    "#import seaborn as sns"
   ]
  },
  {
   "cell_type": "code",
   "execution_count": 15,
   "metadata": {
    "scrolled": true
   },
   "outputs": [],
   "source": [
    "#!{sys.executable} -m pip install plotly --upgrade\n",
    "#!{sys.executable} -m pip install chart-studio\n",
    "#!{sys.executable} -m pip install cufflinks\n",
    "\n",
    "# Standard plotly imports\n",
    "#import chart_studio.plotly as py\n",
    "#import plotly.graph_objects as go\n",
    "\n",
    "# Using plotly + cufflinks in offline mode\n",
    "#import cufflinks\n",
    "#cufflinks.go_offline(connected=True)\n",
    "#init_notebook_mode(connected=True)"
   ]
  },
  {
   "cell_type": "code",
   "execution_count": 16,
   "metadata": {},
   "outputs": [],
   "source": [
    "#import Epic Clinical Data\n",
    "preFeb_C2019 = pd.read_csv('ED_Epic_Data/ED_DATA_EPIC_AUG18_TO_FEB19.csv', encoding='latin1')\n",
    "Feb_C2019 = pd.read_excel('ED_Epic_Data/Feb13_ClinData_2019.xlsx')\n",
    "Mar_C2019 = pd.read_excel('ED_Epic_Data/March_ClinData_2019.xlsx')\n",
    "Apr_C2019 = pd.read_excel('ED_Epic_Data/April_ClinData_2019.xlsx')\n",
    "May_C2019 = pd.read_excel('ED_Epic_Data/May_ClinData_2019.xlsx')\n",
    "Jun_C2019 = pd.read_excel('ED_Epic_Data/June_ClinData_2019.xlsx')"
   ]
  },
  {
   "cell_type": "code",
   "execution_count": 17,
   "metadata": {},
   "outputs": [],
   "source": [
    "preFeb_C2019 = preFeb_C2019.drop(['Unnamed: 0', 'X'], axis=1)"
   ]
  },
  {
   "cell_type": "code",
   "execution_count": 18,
   "metadata": {},
   "outputs": [],
   "source": [
    "preFeb_C2019 = preFeb_C2019.rename(columns={'Encounter.Number': 'Encounter Number', 'Registration.Number': 'Registration Number', 'Age.at.Visit': 'Age at Visit', 'Last.Weight': 'Last Weight', 'Pref.Language': 'Pref Language', 'Arrival.Method': 'Arrival Method', 'Care.Area': 'Care Area', 'ED.Complaint': 'ED Complaint', 'First.ED.Provider': 'First ED Provider', 'Last.ED.Provider': 'Last ED Provider', 'ED.Longest.Attending.ED.Provider': 'ED Longest Attending ED Provider', 'Treatment.Team': 'Treatment Team', 'Current.Medications': 'Current Medications', 'Discharge.Admit.Time': 'Discharge-Admit Time', 'Last.Attending.Provider': 'Last Attending Provider', 'Door.to.PIA': 'Door to PIA', 'ED.PIA.Threshold': 'ED PIA Threshold', 'ED.Completed.Length.of.Stay..Hours.': 'ED Completed Length of Stay (Hours)', 'ED.Completed.Length.of.Stay..Minutes.': 'ED Completed Length of Stay (Minutes)', 'ED.LWBS': 'ED LWBS', 'Arrival.to.Room': 'Arrival to Room', 'Door.to.Pain.Med': 'Door to Pain Med', 'Day.of.Arrival': 'Day of Arrival', 'Hour.of.Arrival': 'Hour of Arrival', 'Triage.Complete.User': 'Triage Complete User', 'Arrival.to.Initial.Nursing.Assessment': 'Arrival to Initial Nursing Assessment', 'Door.to.Doc': 'Door to Doc', 'Disch.Date.Time': 'Disch Date/Time', 'Primary.Dx': 'Primary Dx', 'Admitting.Provider': 'Admitting Provider', 'Lab.Status': 'Lab Status', 'Rad.Status': 'Rad Status'})"
   ]
  },
  {
   "cell_type": "code",
   "execution_count": 19,
   "metadata": {},
   "outputs": [],
   "source": [
    "epic_data = pd.merge(preFeb_C2019, Feb_C2019, how='outer')\n",
    "epic_data = pd.merge(epic_data, Mar_C2019, how='outer')\n",
    "epic_data = pd.merge(epic_data, Apr_C2019, how='outer')\n",
    "epic_data = pd.merge(epic_data, May_C2019, how='outer')\n",
    "epic_data = pd.merge(epic_data, Jun_C2019, how='outer')"
   ]
  },
  {
   "cell_type": "code",
   "execution_count": 20,
   "metadata": {},
   "outputs": [],
   "source": [
    "#make master copies of data sets - everything below can be done with following dataframes\n",
    "#di_data_master = di_data.copy()\n",
    "epic_data_master = epic_data.copy()\n",
    "#use di_data and epic_data for operations below"
   ]
  },
  {
   "cell_type": "code",
   "execution_count": 21,
   "metadata": {},
   "outputs": [],
   "source": [
    "#USE ONLY TO RESET#\n",
    "\n",
    "#di_data = di_data_master.copy()\n",
    "#epic_data = epic_data_master()"
   ]
  },
  {
   "cell_type": "code",
   "execution_count": 23,
   "metadata": {},
   "outputs": [],
   "source": [
    "#drop Accession # column\n",
    "epic_data= epic_data.drop(['Encounter Number'], axis=1)\n",
    "#drop 'Reason for Exam' column\n",
    "epic_data = epic_data.drop(['Registration Number'], axis=1)"
   ]
  },
  {
   "cell_type": "code",
   "execution_count": 24,
   "metadata": {},
   "outputs": [],
   "source": [
    "epic_data['Gender'].replace('F', 0, inplace=True)\n",
    "epic_data['Gender'].replace('M', 1, inplace=True)"
   ]
  },
  {
   "cell_type": "code",
   "execution_count": 28,
   "metadata": {},
   "outputs": [],
   "source": [
    "#Convert string time entries into datetime objects\n",
    "epic_data['Disch Date/Time'] = pd.to_datetime(epic_data['Disch Date/Time'], format=\" %d/%m/%Y %H%M\", errors='coerce')\n"
   ]
  },
  {
   "cell_type": "code",
   "execution_count": 31,
   "metadata": {},
   "outputs": [],
   "source": [
    "epic_data.to_csv(r'ED_Epic_Data/clean_epic.csv')"
   ]
  },
  {
   "cell_type": "code",
   "execution_count": null,
   "metadata": {},
   "outputs": [],
   "source": []
  }
 ],
 "metadata": {
  "kernelspec": {
   "display_name": "Python 3",
   "language": "python",
   "name": "python3"
  },
  "language_info": {
   "codemirror_mode": {
    "name": "ipython",
    "version": 3
   },
   "file_extension": ".py",
   "mimetype": "text/x-python",
   "name": "python",
   "nbconvert_exporter": "python",
   "pygments_lexer": "ipython3",
   "version": "3.6.8"
  }
 },
 "nbformat": 4,
 "nbformat_minor": 2
}
