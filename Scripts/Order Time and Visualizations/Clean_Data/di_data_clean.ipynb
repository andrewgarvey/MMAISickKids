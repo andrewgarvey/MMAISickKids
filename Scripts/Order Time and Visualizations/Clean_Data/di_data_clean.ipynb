{
 "cells": [
  {
   "cell_type": "code",
   "execution_count": 28,
   "metadata": {},
   "outputs": [],
   "source": [
    "##Author: Sargon Morad\n",
    "#Partner: Andrew Garvey\n",
    "#Date: July 1st, 2019\n",
    "#Client: Hospital for Sick Children\n",
    "\n",
    "#Purpose:\n",
    "#-   Clean the ED Data"
   ]
  },
  {
   "cell_type": "code",
   "execution_count": 29,
   "metadata": {},
   "outputs": [],
   "source": [
    "import numpy as np\n",
    "import scipy as sp\n",
    "import pandas as pd\n",
    "import matplotlib as mpl\n",
    "import datetime as dt\n",
    "import matplotlib.pyplot as plt\n",
    "import seaborn as sns\n",
    "from sklearn import preprocessing\n",
    "\n",
    "from IPython.display import display, HTML"
   ]
  },
  {
   "cell_type": "code",
   "execution_count": 30,
   "metadata": {
    "scrolled": true
   },
   "outputs": [],
   "source": [
    "#import sys\n",
    "#!{sys.executable} -m pip install seaborn\n",
    "#import seaborn as sns"
   ]
  },
  {
   "cell_type": "code",
   "execution_count": 31,
   "metadata": {},
   "outputs": [],
   "source": [
    "#import ED DI Data\n",
    "di2018q3 = pd.read_excel('didata/ED DI 2018 - Q3.xlsx')\n",
    "di2018q4 = pd.read_excel('didata/ED DI 2018 - Q4.xlsx')\n",
    "di2019q1 = pd.read_excel('didata/ED DI 2019 - Q1.xlsx')\n",
    "di2019q2 = pd.read_excel('didata/ED DI 2019 - Q2 20190621.xlsx')"
   ]
  },
  {
   "cell_type": "code",
   "execution_count": 32,
   "metadata": {},
   "outputs": [],
   "source": [
    "di_data = pd.merge(di2018q3, di2018q4, how='outer')\n",
    "di_data = pd.merge(di_data, di2019q1, how='outer')\n",
    "di_data = pd.merge(di_data, di2019q2, how='outer')"
   ]
  },
  {
   "cell_type": "code",
   "execution_count": 33,
   "metadata": {},
   "outputs": [],
   "source": [
    "#make master copies of data sets - everything below can be done with following dataframes\n",
    "di_data_master = di_data.copy()\n",
    "#epic_data_master = epic_data.copy()\n",
    "#use di_data and epic_data for operations below"
   ]
  },
  {
   "cell_type": "code",
   "execution_count": 34,
   "metadata": {},
   "outputs": [],
   "source": [
    "#USE ONLY TO RESET#\n",
    "\n",
    "#di_data = di_data_master.copy()\n",
    "#epic_data = epic_data_master()"
   ]
  },
  {
   "cell_type": "code",
   "execution_count": 35,
   "metadata": {},
   "outputs": [],
   "source": [
    "#drop Accession # column\n",
    "di_data = di_data.drop(['Accession #'], axis=1)\n",
    "#drop 'Reason for Exam' column\n",
    "di_data = di_data.drop(['Reason for Exam'], axis=1)"
   ]
  },
  {
   "cell_type": "code",
   "execution_count": 36,
   "metadata": {},
   "outputs": [],
   "source": [
    "#Convert string time entries into datetime objects\n",
    "di_data['End Exam Time'] = pd.to_datetime(di_data['End Exam Time'], format=\"%a %d %b %Y %I:%M %p\")\n",
    "di_data['Order Time'] = pd.to_datetime(di_data['Order Time'], format=\"%Y/%m/%d %H:%M\")\n",
    "di_data['Finalized Time'] = pd.to_datetime(di_data['Finalized Time'], format=\"%d/%m/%Y %I:%M:%S %p\", errors='coerce')\n",
    "di_data['Protocolling Instant'] = pd.to_datetime(di_data['Protocolling Instant'], format=\"%d/%m/%Y %I:%M %p\", errors='coerce')"
   ]
  },
  {
   "cell_type": "code",
   "execution_count": 37,
   "metadata": {},
   "outputs": [],
   "source": [
    "#create a categories df\n",
    "categories = pd.DataFrame(di_data[['Category']])\n",
    "categories['Category id'] = categories.groupby(['Category']).ngroup()\n",
    "categories = categories.drop_duplicates()\n",
    "categories = categories.sort_values('Category id')"
   ]
  },
  {
   "cell_type": "code",
   "execution_count": 38,
   "metadata": {},
   "outputs": [],
   "source": [
    "#create a procedure  df\n",
    "procedures = pd.DataFrame(di_data[['Procedure']])\n",
    "procedures['Procedure id'] = procedures.groupby(['Procedure']).ngroup()\n",
    "procedures = procedures.drop_duplicates()\n",
    "procedures = procedures.sort_values('Procedure id')"
   ]
  },
  {
   "cell_type": "code",
   "execution_count": 39,
   "metadata": {},
   "outputs": [],
   "source": [
    "#create Authorizing Provider df\n",
    "authorizing_provider = pd.DataFrame(di_data[['Authorizing Provider']])\n",
    "authorizing_provider['Authorizing Provider id'] = authorizing_provider.groupby(['Authorizing Provider']).ngroup()\n",
    "authorizing_provider = authorizing_provider.drop_duplicates()\n",
    "authorizing_provider = authorizing_provider.sort_values('Authorizing Provider id')"
   ]
  },
  {
   "cell_type": "code",
   "execution_count": 40,
   "metadata": {},
   "outputs": [],
   "source": [
    "#create Finalizing Phsycian df\n",
    "finalizing_physician = pd.DataFrame(di_data[['Finalizing Physician']])\n",
    "finalizing_physician['Finalizing Physician id'] = finalizing_physician.groupby(['Finalizing Physician']).ngroup()\n",
    "finalizing_physician = finalizing_physician.drop_duplicates()\n",
    "finalizing_physician = finalizing_physician.sort_values('Finalizing Physician id')"
   ]
  },
  {
   "cell_type": "code",
   "execution_count": 41,
   "metadata": {},
   "outputs": [],
   "source": [
    "#combine di_data set with newly created dfs that have ids\n",
    "di_data = pd.merge(di_data, categories, how='left', on='Category')\n",
    "di_data = pd.merge(di_data, procedures, how='left', on='Procedure')\n",
    "di_data = pd.merge(di_data, authorizing_provider, how='left', on='Authorizing Provider')\n",
    "di_data = pd.merge(di_data, finalizing_physician, how='left', on='Finalizing Physician')"
   ]
  },
  {
   "cell_type": "code",
   "execution_count": 42,
   "metadata": {},
   "outputs": [],
   "source": [
    "di_data = di_data.drop(['Procedure', 'Authorizing Provider', 'Name', 'Finalizing Physician'], axis=1)"
   ]
  },
  {
   "cell_type": "code",
   "execution_count": 43,
   "metadata": {},
   "outputs": [],
   "source": [
    "di_data['Exam Duration (min)'] = di_data['End Exam Time'] - di_data['Order Time']\n",
    "di_data['Exam Duration (min)'] = di_data['Exam Duration (min)']/np.timedelta64(1,'m')"
   ]
  },
  {
   "cell_type": "code",
   "execution_count": 44,
   "metadata": {},
   "outputs": [],
   "source": [
    "di_data['OT Day of Week'] = di_data['Order Time'].dt.dayofweek\n",
    "di_data['OT Day Name'] = di_data['Order Time'].dt.day_name()\n",
    "di_data['OT Month'] = di_data['Order Time'].dt.month\n",
    "di_data['OT Month Name'] = di_data['Order Time'].dt.month_name()\n",
    "di_data['OT Hour'] = di_data['Order Time'].dt.hour\n",
    "di_data['OT Year'] = di_data['Order Time'].dt.year\n",
    "di_data['OT Month Year'] = di_data['Order Time'].dt.to_period('M')"
   ]
  },
  {
   "cell_type": "code",
   "execution_count": 45,
   "metadata": {},
   "outputs": [],
   "source": [
    "#rearrange columns\n",
    "di_data = di_data[['MRN', 'Order ID', 'Order Time', 'End Exam Time', 'Finalized Time', 'Exam Duration (min)', 'OT Day of Week', 'OT Day Name', 'OT Month', 'OT Month Name', 'OT Hour', 'OT Month Year', 'Category', 'Category id', 'Procedure id', 'Authorizing Provider id', 'Finalizing Physician id', 'Order to Protocolled (min)', 'Protocolled to Begin (min)', 'Order to Begin (min)', 'Begin to End (min)', 'End to Prelim (min)', 'End to Sign (min)', 'Order to End (min)', 'Order to Sign (min)', 'Protocolling Instant']]"
   ]
  },
  {
   "cell_type": "code",
   "execution_count": 46,
   "metadata": {},
   "outputs": [],
   "source": [
    "di_data['OT PM'] = di_data['OT Hour'].apply(lambda x: 1 if x>=12 else 0)\n",
    "di_data['OT Monday'] = di_data['OT Day of Week'].apply(lambda x: 1 if x==0 else 0)\n",
    "di_data['OT Tuesday'] = di_data['OT Day of Week'].apply(lambda x: 1 if x==1 else 0)\n",
    "di_data['OT Wednesday'] = di_data['OT Day of Week'].apply(lambda x: 1 if x==2 else 0)\n",
    "di_data['OT Thursday'] = di_data['OT Day of Week'].apply(lambda x: 1 if x==3 else 0)\n",
    "di_data['OT Friday'] = di_data['OT Day of Week'].apply(lambda x: 1 if x==4 else 0)\n",
    "di_data['OT Saturday'] = di_data['OT Day of Week'].apply(lambda x: 1 if x==5 else 0)\n",
    "di_data['OT Sunday'] = di_data['OT Day of Week'].apply(lambda x: 1 if x==6 else 0)\n",
    "di_data['OT January'] = di_data['OT Month'].apply(lambda x: 1 if x==1 else 0)\n",
    "di_data['OT February'] = di_data['OT Month'].apply(lambda x: 1 if x==2 else 0)\n",
    "di_data['OT March'] = di_data['OT Month'].apply(lambda x: 1 if x==3 else 0)\n",
    "di_data['OT April'] = di_data['OT Month'].apply(lambda x: 1 if x==4 else 0)\n",
    "di_data['OT May'] = di_data['OT Month'].apply(lambda x: 1 if x==5 else 0)\n",
    "di_data['OT June'] = di_data['OT Month'].apply(lambda x: 1 if x==6 else 0)\n",
    "di_data['OT July'] = di_data['OT Month'].apply(lambda x: 1 if x==7 else 0)\n",
    "di_data['OT August'] = di_data['OT Month'].apply(lambda x: 1 if x==8 else 0)\n",
    "di_data['OT September'] = di_data['OT Month'].apply(lambda x: 1 if x==9 else 0)\n",
    "di_data['OT October'] = di_data['OT Month'].apply(lambda x: 1 if x==10 else 0)\n",
    "di_data['OT November'] = di_data['OT Month'].apply(lambda x: 1 if x==11 else 0)\n",
    "di_data['OT December'] = di_data['OT Month'].apply(lambda x: 1 if x==12 else 0)"
   ]
  },
  {
   "cell_type": "code",
   "execution_count": 47,
   "metadata": {},
   "outputs": [],
   "source": [
    "di_data.to_csv(r'didata/clean_di.csv')"
   ]
  },
  {
   "cell_type": "code",
   "execution_count": null,
   "metadata": {},
   "outputs": [],
   "source": []
  }
 ],
 "metadata": {
  "kernelspec": {
   "display_name": "Python 3",
   "language": "python",
   "name": "python3"
  },
  "language_info": {
   "codemirror_mode": {
    "name": "ipython",
    "version": 3
   },
   "file_extension": ".py",
   "mimetype": "text/x-python",
   "name": "python",
   "nbconvert_exporter": "python",
   "pygments_lexer": "ipython3",
   "version": "3.6.8"
  }
 },
 "nbformat": 4,
 "nbformat_minor": 2
}
